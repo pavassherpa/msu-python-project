{
 "cells": [
  {
   "cell_type": "code",
   "execution_count": 1,
   "id": "9c5c3150",
   "metadata": {},
   "outputs": [],
   "source": [
    "mylist = [1,2,3,4,5,6,7,8,9,10]"
   ]
  },
  {
   "cell_type": "code",
   "execution_count": 3,
   "id": "62e51cbf",
   "metadata": {},
   "outputs": [
    {
     "name": "stdout",
     "output_type": "stream",
     "text": [
      "0\n",
      "1\n",
      "2\n",
      "3\n",
      "4\n",
      "5\n",
      "6\n",
      "7\n",
      "8\n",
      "9\n"
     ]
    }
   ],
   "source": [
    "for num in range(0,10):\n",
    "  print (num)"
   ]
  },
  {
   "cell_type": "code",
   "execution_count": 5,
   "id": "09b02d05",
   "metadata": {},
   "outputs": [
    {
     "data": {
      "text/plain": [
       "[0, 1, 2, 3, 4, 5, 6, 7, 8, 9]"
      ]
     },
     "execution_count": 5,
     "metadata": {},
     "output_type": "execute_result"
    }
   ],
   "source": [
    "list (range(0,10))"
   ]
  },
  {
   "cell_type": "code",
   "execution_count": 6,
   "id": "60c5a6ce",
   "metadata": {},
   "outputs": [
    {
     "name": "stdout",
     "output_type": "stream",
     "text": [
      "0\n",
      "1\n",
      "2\n",
      "3\n",
      "4\n",
      "5\n",
      "6\n",
      "7\n",
      "8\n",
      "9\n"
     ]
    }
   ],
   "source": [
    "for num in range (10):\n",
    "    print (num)"
   ]
  },
  {
   "cell_type": "code",
   "execution_count": 7,
   "id": "9dcd7f1a",
   "metadata": {},
   "outputs": [
    {
     "name": "stdout",
     "output_type": "stream",
     "text": [
      "3\n",
      "4\n",
      "5\n",
      "6\n",
      "7\n",
      "8\n",
      "9\n"
     ]
    }
   ],
   "source": [
    "for num in range (3,10):\n",
    "    print (num)"
   ]
  },
  {
   "cell_type": "code",
   "execution_count": 8,
   "id": "29bfba6e",
   "metadata": {},
   "outputs": [
    {
     "name": "stdout",
     "output_type": "stream",
     "text": [
      "0\n",
      "2\n",
      "4\n",
      "6\n",
      "8\n",
      "10\n"
     ]
    }
   ],
   "source": [
    "for num in range (0,11,2):\n",
    "    print(num)"
   ]
  },
  {
   "cell_type": "code",
   "execution_count": 9,
   "id": "e8d8830b",
   "metadata": {},
   "outputs": [],
   "source": [
    "#enumate"
   ]
  },
  {
   "cell_type": "code",
   "execution_count": 12,
   "id": "12f3313a",
   "metadata": {},
   "outputs": [
    {
     "name": "stdout",
     "output_type": "stream",
     "text": [
      "At index 0 the letter is a\n",
      "At index 1 the letter is b\n",
      "At index 2 the letter is c\n",
      "At index 3 the letter is d\n",
      "At index 4 the letter is e\n"
     ]
    }
   ],
   "source": [
    "index_count = 0\n",
    "for letter in 'abcde':\n",
    "    print ('At index {} the letter is {}'.format (index_count,letter))\n",
    "    index_count +=1"
   ]
  },
  {
   "cell_type": "raw",
   "id": "222f4084",
   "metadata": {},
   "source": [
    "word = 'abcde'\n",
    "for index,letter in enumerate(world):\n",
    "print(index)\n",
    "print(letter)\n",
    "print('\\n')"
   ]
  },
  {
   "cell_type": "code",
   "execution_count": 15,
   "id": "480c3455",
   "metadata": {},
   "outputs": [
    {
     "name": "stdout",
     "output_type": "stream",
     "text": [
      "0\n",
      "a\n",
      "\n",
      "\n",
      "1\n",
      "b\n",
      "\n",
      "\n",
      "2\n",
      "c\n",
      "\n",
      "\n",
      "3\n",
      "d\n",
      "\n",
      "\n",
      "4\n",
      "e\n",
      "\n",
      "\n"
     ]
    }
   ],
   "source": [
    "\n",
    "world = 'abcde'\n",
    "for index,letter in enumerate(world):\n",
    "    print(index)\n",
    "    print(letter)\n",
    "    print('\\n')"
   ]
  },
  {
   "cell_type": "code",
   "execution_count": 17,
   "id": "64aed623",
   "metadata": {},
   "outputs": [
    {
     "name": "stdout",
     "output_type": "stream",
     "text": [
      "('a', 1)\n",
      "('b', 2)\n",
      "('c', 3)\n"
     ]
    }
   ],
   "source": [
    "mylist1 = ['a','b','c']\n",
    "mylist2 = [1,2,3]\n",
    "for item in zip (mylist1,mylist2):\n",
    "    print (item)"
   ]
  },
  {
   "cell_type": "code",
   "execution_count": 4,
   "id": "5eed0cb8",
   "metadata": {},
   "outputs": [
    {
     "name": "stdout",
     "output_type": "stream",
     "text": [
      "a\n",
      "1\n",
      "b\n",
      "2\n",
      "c\n",
      "3\n"
     ]
    }
   ],
   "source": [
    "mylist1 = ['a','b','c']\n",
    "mylist2 = [1,2,3]\n",
    "for l1,l2 in zip (mylist1,mylist2):\n",
    "    print(l1)\n",
    "    print(l2)\n",
    "    "
   ]
  },
  {
   "cell_type": "code",
   "execution_count": 5,
   "id": "f3be21b4",
   "metadata": {},
   "outputs": [
    {
     "data": {
      "text/plain": [
       "[('a', 1), ('b', 2), ('c', 3)]"
      ]
     },
     "execution_count": 5,
     "metadata": {},
     "output_type": "execute_result"
    }
   ],
   "source": [
    "mylist1 = ['a','b','c']\n",
    "mylist2 = [1,2,3,4,5]\n",
    "list (zip(mylist1,mylist2))"
   ]
  },
  {
   "cell_type": "code",
   "execution_count": 7,
   "id": "51c8692c",
   "metadata": {},
   "outputs": [
    {
     "name": "stdout",
     "output_type": "stream",
     "text": [
      "('a', 1, 11)\n",
      "('b', 2, 22)\n",
      "('c', 3, 33)\n"
     ]
    }
   ],
   "source": [
    "mylist1 = ['a','b','c']\n",
    "mylist2 = [1,2,3,4,5]\n",
    "mylist3 = [11,22,33]\n",
    "for item in zip (mylist1,mylist2,mylist3):\n",
    "    print (item)"
   ]
  },
  {
   "cell_type": "code",
   "execution_count": 8,
   "id": "846166d7",
   "metadata": {},
   "outputs": [
    {
     "name": "stdout",
     "output_type": "stream",
     "text": [
      "a\n",
      "1\n",
      "11\n",
      "b\n",
      "2\n",
      "22\n",
      "c\n",
      "3\n",
      "33\n"
     ]
    }
   ],
   "source": [
    "mylist1 = ['a','b','c']\n",
    "mylist2 = [1,2,3,4,5]\n",
    "mylist3 = [11,22,33]\n",
    "for l1,l2,l3 in zip (mylist1,mylist2,mylist3):\n",
    "    print (l1)\n",
    "    print (l2)\n",
    "    print (l3)"
   ]
  },
  {
   "cell_type": "code",
   "execution_count": 9,
   "id": "1bfb35db",
   "metadata": {},
   "outputs": [],
   "source": [
    "#in keyword\n"
   ]
  },
  {
   "cell_type": "code",
   "execution_count": 10,
   "id": "cdcb99a9",
   "metadata": {},
   "outputs": [
    {
     "data": {
      "text/plain": [
       "False"
      ]
     },
     "execution_count": 10,
     "metadata": {},
     "output_type": "execute_result"
    }
   ],
   "source": [
    "'x' in [1,2,3]"
   ]
  },
  {
   "cell_type": "code",
   "execution_count": 11,
   "id": "fc6b6864",
   "metadata": {},
   "outputs": [
    {
     "data": {
      "text/plain": [
       "True"
      ]
     },
     "execution_count": 11,
     "metadata": {},
     "output_type": "execute_result"
    }
   ],
   "source": [
    "'x' in ['x','y','z']"
   ]
  },
  {
   "cell_type": "code",
   "execution_count": 12,
   "id": "0ac796f0",
   "metadata": {},
   "outputs": [
    {
     "data": {
      "text/plain": [
       "True"
      ]
     },
     "execution_count": 12,
     "metadata": {},
     "output_type": "execute_result"
    }
   ],
   "source": [
    "'a' in 'wonderla'"
   ]
  },
  {
   "cell_type": "code",
   "execution_count": 13,
   "id": "254188d4",
   "metadata": {},
   "outputs": [
    {
     "data": {
      "text/plain": [
       "True"
      ]
     },
     "execution_count": 13,
     "metadata": {},
     "output_type": "execute_result"
    }
   ],
   "source": [
    "'mykey' in {'mykey':1}"
   ]
  },
  {
   "cell_type": "code",
   "execution_count": 14,
   "id": "a17d0ed5",
   "metadata": {},
   "outputs": [],
   "source": [
    "d = {'mykey':345}"
   ]
  },
  {
   "cell_type": "code",
   "execution_count": 15,
   "id": "295535af",
   "metadata": {},
   "outputs": [
    {
     "data": {
      "text/plain": [
       "True"
      ]
     },
     "execution_count": 15,
     "metadata": {},
     "output_type": "execute_result"
    }
   ],
   "source": [
    "345 in d.values()"
   ]
  },
  {
   "cell_type": "code",
   "execution_count": 16,
   "id": "fb728ca8",
   "metadata": {},
   "outputs": [
    {
     "data": {
      "text/plain": [
       "False"
      ]
     },
     "execution_count": 16,
     "metadata": {},
     "output_type": "execute_result"
    }
   ],
   "source": [
    "345 in d.keys()"
   ]
  },
  {
   "cell_type": "code",
   "execution_count": 17,
   "id": "ff2235a9",
   "metadata": {},
   "outputs": [
    {
     "data": {
      "text/plain": [
       "False"
      ]
     },
     "execution_count": 17,
     "metadata": {},
     "output_type": "execute_result"
    }
   ],
   "source": [
    "345 in d.items()"
   ]
  },
  {
   "cell_type": "code",
   "execution_count": 18,
   "id": "3c35bcfe",
   "metadata": {},
   "outputs": [],
   "source": [
    "#min,max"
   ]
  },
  {
   "cell_type": "code",
   "execution_count": 19,
   "id": "a000b2b0",
   "metadata": {},
   "outputs": [
    {
     "data": {
      "text/plain": [
       "10"
      ]
     },
     "execution_count": 19,
     "metadata": {},
     "output_type": "execute_result"
    }
   ],
   "source": [
    "mylist = [10,20,30,40,50,60]\n",
    "min(mylist)"
   ]
  },
  {
   "cell_type": "code",
   "execution_count": 20,
   "id": "acc8a27d",
   "metadata": {},
   "outputs": [
    {
     "data": {
      "text/plain": [
       "60"
      ]
     },
     "execution_count": 20,
     "metadata": {},
     "output_type": "execute_result"
    }
   ],
   "source": [
    "max(mylist)"
   ]
  },
  {
   "cell_type": "code",
   "execution_count": null,
   "id": "b4b13018",
   "metadata": {},
   "outputs": [],
   "source": []
  }
 ],
 "metadata": {
  "kernelspec": {
   "display_name": "Python 3 (ipykernel)",
   "language": "python",
   "name": "python3"
  },
  "language_info": {
   "codemirror_mode": {
    "name": "ipython",
    "version": 3
   },
   "file_extension": ".py",
   "mimetype": "text/x-python",
   "name": "python",
   "nbconvert_exporter": "python",
   "pygments_lexer": "ipython3",
   "version": "3.10.9"
  }
 },
 "nbformat": 4,
 "nbformat_minor": 5
}
