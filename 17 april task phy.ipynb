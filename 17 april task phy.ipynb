{
 "cells": [
  {
   "cell_type": "code",
   "execution_count": 1,
   "id": "d4eb4a32",
   "metadata": {},
   "outputs": [],
   "source": [
    "##create variables of different data types (integer,float,string,and boolean) and perform various arithmetic operations on them.\n"
   ]
  },
  {
   "cell_type": "code",
   "execution_count": 29,
   "id": "e1fd2e32",
   "metadata": {},
   "outputs": [
    {
     "name": "stdout",
     "output_type": "stream",
     "text": [
      "This is integer type data:  [0, 20, 1.0, 1, 0, True, False, False, False]\n",
      "\n",
      "This is float type data:  [0.0, 5.0, 1.0, 1.0, 0.0, True, False, False, False]\n",
      "\n",
      "This is str type data:  ['hellohello', False, 'hellohellohellohellohellohellohellohellohellohello', False, False, False]\n"
     ]
    }
   ],
   "source": [
    "a=10 ##int type var\n",
    "b=2.5 ##float type var\n",
    "c=\"hello\" ##string type var\n",
    "d=True ##boolean type var on-1\n",
    "e=False ##boolean type var\n",
    "integer =[a-a,a+a,a/a,a//a,a%a,a==a,a!=a,a>a,a<a]\n",
    "Float=[b-b,b+b,b/b,b//b,b%b,b==b,b!=b,b>b,b<b]\n",
    "str1= [c+c,c==a,c*a,c>c,c<c,c!=c]\n",
    "hss = \"python data type\"\n",
    "for i in hss range (len(hss)):\n",
    "    i.upper()\n",
    "    name = i\n",
    "    print(i)\n",
    "print()\n",
    "print()\n",
    "print(\"This is integer type data: \", integer)\n",
    "print()\n",
    "print(\"This is float type data: \", Float)\n",
    "print()\n",
    "print(\"This is str type data: \", str1)"
   ]
  },
  {
   "cell_type": "code",
   "execution_count": null,
   "id": "3dcc82a8",
   "metadata": {},
   "outputs": [],
   "source": []
  },
  {
   "cell_type": "code",
   "execution_count": null,
   "id": "b1e416ab",
   "metadata": {},
   "outputs": [],
   "source": []
  }
 ],
 "metadata": {
  "kernelspec": {
   "display_name": "Python 3 (ipykernel)",
   "language": "python",
   "name": "python3"
  },
  "language_info": {
   "codemirror_mode": {
    "name": "ipython",
    "version": 3
   },
   "file_extension": ".py",
   "mimetype": "text/x-python",
   "name": "python",
   "nbconvert_exporter": "python",
   "pygments_lexer": "ipython3",
   "version": "3.10.9"
  }
 },
 "nbformat": 4,
 "nbformat_minor": 5
}
